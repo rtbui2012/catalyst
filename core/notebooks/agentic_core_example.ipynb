{
 "cells": [
  {
   "cell_type": "markdown",
   "id": "a0dbbb24",
   "metadata": {},
   "source": [
    "# Agentic Core Module Example\n",
    "\n",
    "This notebook demonstrates how to use the agentic core module to create and work with an AI agent that can:\n",
    "- Process messages\n",
    "- Use tools\n",
    "- Maintain memory of conversations\n",
    "- Plan and execute tasks\n",
    "\n",
    "The agent core provides a flexible structure for building agentic AI applications based on modular components."
   ]
  },
  {
   "cell_type": "markdown",
   "id": "b0cbcc3a",
   "metadata": {},
   "source": [
    "## Setup and Imports\n",
    "\n",
    "First, we'll import the necessary modules from the agentic core package."
   ]
  },
  {
   "cell_type": "code",
   "execution_count": 9,
   "id": "68e0a42c",
   "metadata": {},
   "outputs": [],
   "source": [
    "import sys\n",
    "import os\n",
    "import logging\n",
    "\n",
    "# Add the parent directory to sys.path to allow importing the agentic module\n",
    "# This is only needed if the agentic module is not installed or in the Python path\n",
    "sys.path.insert(0, os.path.abspath(os.path.join(os.getcwd(), '..', '..', '..')))\n",
    "\n",
    "# Import the core components\n",
    "from agentic.core import AgentCore, AgentConfig\n",
    "from agentic.core.tools import Tool, ToolResult\n",
    "\n",
    "# Configure logging\n",
    "logging.basicConfig(level=logging.INFO, \n",
    "                   format='%(asctime)s - %(name)s - %(levelname)s - %(message)s')"
   ]
  },
  {
   "cell_type": "markdown",
   "id": "d60e0b02",
   "metadata": {},
   "source": [
    "## Creating a Custom Tool\n",
    "\n",
    "Let's create a simple tool that the agent can use. This calculator tool can perform basic arithmetic operations."
   ]
  },
  {
   "cell_type": "code",
   "execution_count": 10,
   "id": "87cc9cd3",
   "metadata": {},
   "outputs": [
    {
     "name": "stdout",
     "output_type": "stream",
     "text": [
      "Calculator result: 8\n"
     ]
    }
   ],
   "source": [
    "class CalculatorTool(Tool):\n",
    "    \"\"\"A simple calculator tool for demonstration purposes.\"\"\"\n",
    "    \n",
    "    def __init__(self):\n",
    "        \"\"\"Initialize the calculator tool.\"\"\"\n",
    "        super().__init__(\n",
    "            name=\"calculator\",\n",
    "            description=\"Performs basic arithmetic operations (add, subtract, multiply, divide)\"\n",
    "        )\n",
    "    \n",
    "    def execute(self, operation: str, a: float, b: float) -> ToolResult:\n",
    "        \"\"\"Execute the calculator operation.\n",
    "        \n",
    "        Args:\n",
    "            operation: The operation to perform (add, subtract, multiply, divide)\n",
    "            a: First number\n",
    "            b: Second number\n",
    "            \n",
    "        Returns:\n",
    "            Result of the calculation\n",
    "        \"\"\"\n",
    "        try:\n",
    "            if operation == \"add\":\n",
    "                result = a + b\n",
    "            elif operation == \"subtract\":\n",
    "                result = a - b\n",
    "            elif operation == \"multiply\":\n",
    "                result = a * b\n",
    "            elif operation == \"divide\":\n",
    "                if b == 0:\n",
    "                    return ToolResult.error_result(\"Division by zero is not allowed\")\n",
    "                result = a / b\n",
    "            else:\n",
    "                return ToolResult.error_result(f\"Unknown operation: {operation}\")\n",
    "            \n",
    "            return ToolResult.success_result(result)\n",
    "        except Exception as e:\n",
    "            return ToolResult.error_result(f\"Error in calculator: {str(e)}\")\n",
    "    \n",
    "    def get_schema(self) -> dict:\n",
    "        \"\"\"Get the schema for the calculator tool.\"\"\"\n",
    "        return {\n",
    "            \"parameters\": {\n",
    "                \"operation\": {\n",
    "                    \"type\": \"string\",\n",
    "                    \"description\": \"The operation to perform (add, subtract, multiply, divide)\",\n",
    "                    \"required\": True\n",
    "                },\n",
    "                \"a\": {\n",
    "                    \"type\": \"number\",\n",
    "                    \"description\": \"First number\",\n",
    "                    \"required\": True\n",
    "                },\n",
    "                \"b\": {\n",
    "                    \"type\": \"number\",\n",
    "                    \"description\": \"Second number\",\n",
    "                    \"required\": True\n",
    "                }\n",
    "            },\n",
    "            \"returns\": {\n",
    "                \"type\": \"number\",\n",
    "                \"description\": \"Result of the calculation\"\n",
    "            }\n",
    "        }\n",
    "\n",
    "# Let's test our calculator tool directly\n",
    "calculator = CalculatorTool()\n",
    "result = calculator.execute(operation=\"add\", a=5, b=3)\n",
    "print(f\"Calculator result: {result.data}\")"
   ]
  },
  {
   "cell_type": "markdown",
   "id": "11615c31",
   "metadata": {},
   "source": [
    "## Creating the Agent\n",
    "\n",
    "Now let's create an agent with a custom configuration and register our calculator tool."
   ]
  },
  {
   "cell_type": "code",
   "execution_count": 11,
   "id": "1414e4c1",
   "metadata": {},
   "outputs": [
    {
     "name": "stderr",
     "output_type": "stream",
     "text": [
      "2025-03-28 15:22:51,692 - agentic.core - INFO - Registering tool: calculator\n",
      "2025-03-28 15:22:51,692 - agentic.core - INFO - Registering tool: calculator\n"
     ]
    },
    {
     "name": "stdout",
     "output_type": "stream",
     "text": [
      "Registered tools: ['calculator']\n"
     ]
    }
   ],
   "source": [
    "# Create agent configuration\n",
    "config = AgentConfig(\n",
    "    verbose=True,\n",
    "    planning_enabled=True,\n",
    "    long_term_memory_enabled=True,\n",
    "    short_term_memory_capacity=15  # Store more messages than the default\n",
    ")\n",
    "\n",
    "# Create agent core\n",
    "agent = AgentCore(config)\n",
    "\n",
    "# Register our calculator tool\n",
    "agent.register_tool(calculator)\n",
    "\n",
    "# Get all registered tools\n",
    "registered_tools = agent.tool_registry.get_all_tools()\n",
    "print(f\"Registered tools: {[tool.name for tool in registered_tools]}\")"
   ]
  },
  {
   "cell_type": "markdown",
   "id": "f605e0a2",
   "metadata": {},
   "source": [
    "## Interacting with the Agent\n",
    "\n",
    "Let's interact with the agent and see how it responds to various messages."
   ]
  },
  {
   "cell_type": "code",
   "execution_count": 12,
   "id": "56b32ca3",
   "metadata": {},
   "outputs": [
    {
     "name": "stderr",
     "output_type": "stream",
     "text": [
      "2025-03-28 15:22:51,706 - agentic.core - INFO - Processing message from user: Hello, who are you?\n",
      "2025-03-28 15:22:51,706 - agentic.core - INFO - Processing message from user: Hello, who are you?\n",
      "2025-03-28 15:22:51,708 - agentic.planner - INFO - Generating plan for goal: Hello, who are you?\n",
      "2025-03-28 15:22:51,708 - agentic.planner - INFO - Generating plan for goal: Hello, who are you?\n",
      "2025-03-28 15:22:51,709 - agentic.planner - INFO - Generated plan with 3 steps\n",
      "2025-03-28 15:22:51,709 - agentic.planner - INFO - Generated plan with 3 steps\n",
      "2025-03-28 15:22:51,710 - agentic.core - INFO - Executing plan for message: Hello, who are you?\n",
      "2025-03-28 15:22:51,710 - agentic.core - INFO - Executing plan for message: Hello, who are you?\n",
      "2025-03-28 15:22:51,711 - agentic.executor - INFO - Executing step: Analyze the request to understand the user's goal\n",
      "2025-03-28 15:22:51,711 - agentic.executor - INFO - Executing step: Analyze the request to understand the user's goal\n",
      "2025-03-28 15:22:51,712 - agentic.executor - INFO - Executing step: Determine if the goal can be accomplished with available tools\n",
      "2025-03-28 15:22:51,712 - agentic.executor - INFO - Executing step: Determine if the goal can be accomplished with available tools\n",
      "2025-03-28 15:22:51,714 - agentic.executor - INFO - Executing step: Inform the user about the capabilities that would be needed to accomplish the task\n",
      "2025-03-28 15:22:51,714 - agentic.executor - INFO - Executing step: Inform the user about the capabilities that would be needed to accomplish the task\n",
      "2025-03-28 15:22:51,717 - agentic.core - INFO - Processing message from user: What can you do?\n",
      "2025-03-28 15:22:51,717 - agentic.core - INFO - Processing message from user: What can you do?\n",
      "2025-03-28 15:22:51,718 - agentic.planner - INFO - Generating plan for goal: What can you do?\n",
      "2025-03-28 15:22:51,718 - agentic.planner - INFO - Generating plan for goal: What can you do?\n",
      "2025-03-28 15:22:51,719 - agentic.planner - INFO - Generated plan with 3 steps\n",
      "2025-03-28 15:22:51,719 - agentic.planner - INFO - Generated plan with 3 steps\n",
      "2025-03-28 15:22:51,723 - agentic.core - INFO - Executing plan for message: What can you do?\n",
      "2025-03-28 15:22:51,723 - agentic.core - INFO - Executing plan for message: What can you do?\n",
      "2025-03-28 15:22:51,724 - agentic.executor - INFO - Executing step: Analyze the request to understand the user's goal\n",
      "2025-03-28 15:22:51,724 - agentic.executor - INFO - Executing step: Analyze the request to understand the user's goal\n",
      "2025-03-28 15:22:51,725 - agentic.executor - INFO - Executing step: Determine if the goal can be accomplished with available tools\n",
      "2025-03-28 15:22:51,725 - agentic.executor - INFO - Executing step: Determine if the goal can be accomplished with available tools\n",
      "2025-03-28 15:22:51,727 - agentic.executor - INFO - Executing step: Inform the user about the capabilities that would be needed to accomplish the task\n",
      "2025-03-28 15:22:51,727 - agentic.executor - INFO - Executing step: Inform the user about the capabilities that would be needed to accomplish the task\n",
      "2025-03-28 15:22:51,727 - agentic.core - INFO - Evaluating if task can be accomplished: Can you calculate 42 divided by 6?\n",
      "2025-03-28 15:22:51,727 - agentic.core - INFO - Evaluating if task can be accomplished: Can you calculate 42 divided by 6?\n",
      "2025-03-28 15:22:51,729 - agentic.planner - INFO - Generating plan for goal: Can you calculate 42 divided by 6?\n",
      "2025-03-28 15:22:51,729 - agentic.planner - INFO - Generating plan for goal: Can you calculate 42 divided by 6?\n",
      "2025-03-28 15:22:51,730 - agentic.planner - INFO - Generated plan with 3 steps\n",
      "2025-03-28 15:22:51,730 - agentic.planner - INFO - Generated plan with 3 steps\n",
      "2025-03-28 15:22:51,732 - agentic.core - INFO - Processing message from user: Can you calculate 42 divided by 6?\n",
      "2025-03-28 15:22:51,732 - agentic.core - INFO - Processing message from user: Can you calculate 42 divided by 6?\n",
      "2025-03-28 15:22:51,734 - agentic.planner - INFO - Generating plan for goal: Can you calculate 42 divided by 6?\n",
      "2025-03-28 15:22:51,734 - agentic.planner - INFO - Generating plan for goal: Can you calculate 42 divided by 6?\n",
      "2025-03-28 15:22:51,735 - agentic.planner - INFO - Generated plan with 3 steps\n",
      "2025-03-28 15:22:51,735 - agentic.planner - INFO - Generated plan with 3 steps\n",
      "2025-03-28 15:22:51,736 - agentic.core - INFO - Executing plan for message: Can you calculate 42 divided by 6?\n",
      "2025-03-28 15:22:51,736 - agentic.core - INFO - Executing plan for message: Can you calculate 42 divided by 6?\n",
      "2025-03-28 15:22:51,738 - agentic.executor - INFO - Executing step: Analyze the request to understand the user's goal\n",
      "2025-03-28 15:22:51,738 - agentic.executor - INFO - Executing step: Analyze the request to understand the user's goal\n",
      "2025-03-28 15:22:51,739 - agentic.executor - INFO - Executing step: Determine if the goal can be accomplished with available tools\n",
      "2025-03-28 15:22:51,739 - agentic.executor - INFO - Executing step: Determine if the goal can be accomplished with available tools\n",
      "2025-03-28 15:22:51,740 - agentic.executor - INFO - Executing step: Inform the user about the capabilities that would be needed to accomplish the task\n",
      "2025-03-28 15:22:51,740 - agentic.executor - INFO - Executing step: Inform the user about the capabilities that would be needed to accomplish the task\n"
     ]
    },
    {
     "name": "stdout",
     "output_type": "stream",
     "text": [
      "User: Hello, who are you?\n",
      "Agent: I understand your request. However, I currently don't have the necessary tools to accomplish this task. As my capabilities develop, I'll be able to assist with more complex requests.\n",
      "\n",
      "User: What can you do?\n",
      "Agent: I understand your request. However, I currently don't have the necessary tools to accomplish this task. As my capabilities develop, I'll be able to assist with more complex requests.\n",
      "\n",
      "User: Can you calculate 42 divided by 6?\n",
      "Task assessment: True\n",
      "Reason: The task can be accomplished with the current tools.\n",
      "Agent: I understand your request. However, I currently don't have the necessary tools to accomplish this task. As my capabilities develop, I'll be able to assist with more complex requests.\n",
      "\n"
     ]
    }
   ],
   "source": [
    "# Send a simple greeting message\n",
    "response = agent.process_message(\"Hello, who are you?\")\n",
    "print(f\"User: Hello, who are you?\")\n",
    "print(f\"Agent: {response}\\n\")\n",
    "\n",
    "# Ask about the agent's capabilities\n",
    "response = agent.process_message(\"What can you do?\")\n",
    "print(f\"User: What can you do?\")\n",
    "print(f\"Agent: {response}\\n\")\n",
    "\n",
    "# Ask if the agent can perform a task\n",
    "task = \"Can you calculate 42 divided by 6?\"\n",
    "assessment = agent.can_accomplish(task)\n",
    "print(f\"User: {task}\")\n",
    "print(f\"Task assessment: {assessment['can_accomplish']}\")\n",
    "print(f\"Reason: {assessment['reason']}\")\n",
    "\n",
    "# Ask the agent to perform a task\n",
    "response = agent.process_message(task)\n",
    "print(f\"Agent: {response}\\n\")"
   ]
  },
  {
   "cell_type": "markdown",
   "id": "89319d91",
   "metadata": {},
   "source": [
    "## Examining Memory\n",
    "\n",
    "Let's examine the agent's memory to see what it has stored from our conversation."
   ]
  },
  {
   "cell_type": "code",
   "execution_count": 13,
   "id": "0650bf62",
   "metadata": {},
   "outputs": [
    {
     "name": "stdout",
     "output_type": "stream",
     "text": [
      "Conversation History:\n",
      "Agent: I understand your request. However, I currently don't have the necessary tools to accomplish this task. As my capabilities develop, I'll be able to assist with more complex requests.\n",
      "User: Can you calculate 42 divided by 6?\n",
      "Agent: I understand your request. However, I currently don't have the necessary tools to accomplish this task. As my capabilities develop, I'll be able to assist with more complex requests.\n",
      "\n",
      "Most Recent 3 Messages:\n",
      "Agent: I understand your request. However, I currently don't have the necessary tools to accomplish this task. As my capabilities develop, I'll be able to assist with more complex requests.\n"
     ]
    }
   ],
   "source": [
    "# Get conversation history\n",
    "conversation_history = agent.memory.get_conversation_history(as_text=True)\n",
    "print(\"Conversation History:\")\n",
    "print(conversation_history)\n",
    "\n",
    "# Get recent messages\n",
    "recent_messages = agent.memory.get_recent_messages(limit=3)\n",
    "print(\"\\nMost Recent 3 Messages:\")\n",
    "for msg in recent_messages:\n",
    "    print(f\"{msg.sender.capitalize()}: {msg.content}\")"
   ]
  },
  {
   "cell_type": "markdown",
   "id": "2c6b7163",
   "metadata": {},
   "source": [
    "## Creating a New Tool Dynamically\n",
    "\n",
    "Let's demonstrate how to create and register a new tool dynamically during runtime."
   ]
  },
  {
   "cell_type": "code",
   "execution_count": 14,
   "id": "0e10e908",
   "metadata": {},
   "outputs": [
    {
     "name": "stderr",
     "output_type": "stream",
     "text": [
      "2025-03-28 15:22:51,767 - agentic.core - INFO - Registering tool: weather\n",
      "2025-03-28 15:22:51,767 - agentic.core - INFO - Registering tool: weather\n"
     ]
    },
    {
     "name": "stdout",
     "output_type": "stream",
     "text": [
      "Weather in Seattle: {'location': 'Seattle', 'temperature': 6, 'condition': 'snowy', 'humidity': 65, 'timestamp': '2025-03-28T12:00:00Z'}\n",
      "Updated tool list: ['calculator', 'weather']\n"
     ]
    }
   ],
   "source": [
    "# Create a simple weather tool\n",
    "class WeatherTool(Tool):\n",
    "    \"\"\"A simple weather tool for demonstration purposes.\"\"\"\n",
    "    \n",
    "    def __init__(self):\n",
    "        \"\"\"Initialize the weather tool.\"\"\"\n",
    "        super().__init__(\n",
    "            name=\"weather\",\n",
    "            description=\"Gets the weather for a given location (simulated)\"\n",
    "        )\n",
    "    \n",
    "    def execute(self, location: str) -> ToolResult:\n",
    "        \"\"\"Get the weather for a location (simulated).\n",
    "        \n",
    "        Args:\n",
    "            location: The location to get weather for\n",
    "            \n",
    "        Returns:\n",
    "            Simulated weather information\n",
    "        \"\"\"\n",
    "        # This is a simulated response\n",
    "        import random\n",
    "        weather_conditions = [\"sunny\", \"cloudy\", \"rainy\", \"snowy\", \"windy\"]\n",
    "        temperature = random.randint(0, 35)  # Celsius\n",
    "        condition = random.choice(weather_conditions)\n",
    "        \n",
    "        return ToolResult.success_result({\n",
    "            \"location\": location,\n",
    "            \"temperature\": temperature,\n",
    "            \"condition\": condition,\n",
    "            \"humidity\": random.randint(30, 90),\n",
    "            \"timestamp\": \"2025-03-28T12:00:00Z\"  # Current date in the context\n",
    "        })\n",
    "    \n",
    "    def get_schema(self) -> dict:\n",
    "        \"\"\"Get the schema for the weather tool.\"\"\"\n",
    "        return {\n",
    "            \"parameters\": {\n",
    "                \"location\": {\n",
    "                    \"type\": \"string\",\n",
    "                    \"description\": \"The location to get weather for\",\n",
    "                    \"required\": True\n",
    "                }\n",
    "            },\n",
    "            \"returns\": {\n",
    "                \"type\": \"object\",\n",
    "                \"description\": \"Weather information\"\n",
    "            }\n",
    "        }\n",
    "\n",
    "# Register the new tool with the agent\n",
    "weather_tool = WeatherTool()\n",
    "agent.register_tool(weather_tool)\n",
    "\n",
    "# Now let's test the new tool directly\n",
    "weather_result = weather_tool.execute(location=\"Seattle\")\n",
    "print(f\"Weather in Seattle: {weather_result.data}\")\n",
    "\n",
    "# Get updated list of tools\n",
    "updated_tools = agent.tool_registry.get_all_tools()\n",
    "print(f\"Updated tool list: {[tool.name for tool in updated_tools]}\")"
   ]
  },
  {
   "cell_type": "markdown",
   "id": "6b0f7eae",
   "metadata": {},
   "source": [
    "## Testing the Agent with New Capabilities\n",
    "\n",
    "Let's see if the agent can now handle weather-related queries."
   ]
  },
  {
   "cell_type": "code",
   "execution_count": 15,
   "id": "bc78d5d8",
   "metadata": {},
   "outputs": [
    {
     "name": "stderr",
     "output_type": "stream",
     "text": [
      "2025-03-28 15:22:51,788 - agentic.core - INFO - Evaluating if task can be accomplished: What's the weather like in New York?\n",
      "2025-03-28 15:22:51,788 - agentic.core - INFO - Evaluating if task can be accomplished: What's the weather like in New York?\n",
      "2025-03-28 15:22:51,790 - agentic.planner - INFO - Generating plan for goal: What's the weather like in New York?\n",
      "2025-03-28 15:22:51,790 - agentic.planner - INFO - Generating plan for goal: What's the weather like in New York?\n",
      "2025-03-28 15:22:51,791 - agentic.planner - INFO - Generated plan with 3 steps\n",
      "2025-03-28 15:22:51,791 - agentic.planner - INFO - Generated plan with 3 steps\n",
      "2025-03-28 15:22:51,793 - agentic.core - INFO - Processing message from user: What's the weather like in New York?\n",
      "2025-03-28 15:22:51,793 - agentic.core - INFO - Processing message from user: What's the weather like in New York?\n",
      "2025-03-28 15:22:51,794 - agentic.planner - INFO - Generating plan for goal: What's the weather like in New York?\n",
      "2025-03-28 15:22:51,794 - agentic.planner - INFO - Generating plan for goal: What's the weather like in New York?\n",
      "2025-03-28 15:22:51,795 - agentic.planner - INFO - Generated plan with 3 steps\n",
      "2025-03-28 15:22:51,795 - agentic.planner - INFO - Generated plan with 3 steps\n",
      "2025-03-28 15:22:51,796 - agentic.core - INFO - Executing plan for message: What's the weather like in New York?\n",
      "2025-03-28 15:22:51,796 - agentic.core - INFO - Executing plan for message: What's the weather like in New York?\n",
      "2025-03-28 15:22:51,797 - agentic.executor - INFO - Executing step: Analyze the request to understand the user's goal\n",
      "2025-03-28 15:22:51,797 - agentic.executor - INFO - Executing step: Analyze the request to understand the user's goal\n",
      "2025-03-28 15:22:51,799 - agentic.executor - INFO - Executing step: Determine if the goal can be accomplished with available tools\n",
      "2025-03-28 15:22:51,799 - agentic.executor - INFO - Executing step: Determine if the goal can be accomplished with available tools\n",
      "2025-03-28 15:22:51,800 - agentic.executor - INFO - Executing step: Inform the user about the capabilities that would be needed to accomplish the task\n",
      "2025-03-28 15:22:51,800 - agentic.executor - INFO - Executing step: Inform the user about the capabilities that would be needed to accomplish the task\n"
     ]
    },
    {
     "name": "stdout",
     "output_type": "stream",
     "text": [
      "User: What's the weather like in New York?\n",
      "Task assessment: True\n",
      "Reason: The task can be accomplished with the current tools.\n",
      "Agent: I understand your request. However, I currently don't have the necessary tools to accomplish this task. As my capabilities develop, I'll be able to assist with more complex requests.\n",
      "\n"
     ]
    }
   ],
   "source": [
    "# Check if the agent can accomplish a weather task\n",
    "weather_task = \"What's the weather like in New York?\"\n",
    "assessment = agent.can_accomplish(weather_task)\n",
    "print(f\"User: {weather_task}\")\n",
    "print(f\"Task assessment: {assessment['can_accomplish']}\")\n",
    "print(f\"Reason: {assessment['reason']}\")\n",
    "\n",
    "# Process a weather request\n",
    "response = agent.process_message(weather_task)\n",
    "print(f\"Agent: {response}\\n\")"
   ]
  },
  {
   "cell_type": "markdown",
   "id": "ef04071c",
   "metadata": {},
   "source": [
    "## Planning and Execution\n",
    "\n",
    "The agent uses a planning system to break down tasks into steps. Let's examine the current plan after our interactions."
   ]
  },
  {
   "cell_type": "code",
   "execution_count": 16,
   "id": "2279f043",
   "metadata": {},
   "outputs": [
    {
     "name": "stdout",
     "output_type": "stream",
     "text": [
      "Current Plan Goal: What's the weather like in New York?\n",
      "Plan Status: completed\n",
      "\n",
      "Steps:\n",
      "1. [completed] Analyze the request to understand the user's goal\n",
      "2. [completed] Determine if the goal can be accomplished with available tools\n",
      "3. [completed] Inform the user about the capabilities that would be needed to accomplish the task\n"
     ]
    }
   ],
   "source": [
    "# Access the current plan\n",
    "current_plan = agent.planning_engine.current_plan\n",
    "\n",
    "if current_plan:\n",
    "    print(f\"Current Plan Goal: {current_plan.goal}\")\n",
    "    print(f\"Plan Status: {current_plan.status.value}\")\n",
    "    print(\"\\nSteps:\")\n",
    "    \n",
    "    for i, step in enumerate(current_plan.steps, 1):\n",
    "        print(f\"{i}. [{step.status.value}] {step.description}\")\n",
    "        if step.tool_name:\n",
    "            print(f\"   Tool: {step.tool_name}\")\n",
    "            print(f\"   Args: {step.tool_args}\")\n",
    "        if step.result:\n",
    "            print(f\"   Result: {step.result}\")\n",
    "        if step.error:\n",
    "            print(f\"   Error: {step.error}\")\n",
    "else:\n",
    "    print(\"No current plan available.\")"
   ]
  },
  {
   "cell_type": "markdown",
   "id": "7a8b4b1e",
   "metadata": {},
   "source": [
    "## Next Steps for Development\n",
    "\n",
    "In a full implementation, the agent would need:\n",
    "\n",
    "1. **Integration with a real LLM API** - The current implementation uses placeholders for LLM calls\n",
    "2. **More tools** - Additional tools to expand the agent's capabilities\n",
    "3. **Better planning logic** - Enhanced ability to create and execute complex plans\n",
    "4. **Improved memory** - Vectorized or semantic search for more effective memory recall\n",
    "5. **Self-improvement** - Ability for the agent to write and integrate its own tools\n",
    "\n",
    "The modular design makes it easy to enhance these components independently."
   ]
  },
  {
   "cell_type": "markdown",
   "id": "a60ae466",
   "metadata": {},
   "source": [
    "## Conclusion\n",
    "\n",
    "This notebook demonstrated the basic usage of the agentic core module. The framework provides a structured approach to building agentic AI applications with modular components for:\n",
    "\n",
    "- Memory management\n",
    "- Planning and execution\n",
    "- Tool discovery and utilization\n",
    "- Message processing\n",
    "\n",
    "With these components in place, you can build sophisticated AI agents that can accomplish complex tasks using a variety of tools and capabilities."
   ]
  }
 ],
 "metadata": {
  "kernelspec": {
   "display_name": ".venv",
   "language": "python",
   "name": "python3"
  },
  "language_info": {
   "codemirror_mode": {
    "name": "ipython",
    "version": 3
   },
   "file_extension": ".py",
   "mimetype": "text/x-python",
   "name": "python",
   "nbconvert_exporter": "python",
   "pygments_lexer": "ipython3",
   "version": "3.11.3"
  }
 },
 "nbformat": 4,
 "nbformat_minor": 5
}
